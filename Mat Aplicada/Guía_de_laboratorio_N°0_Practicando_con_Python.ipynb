{
  "cells": [
    {
      "cell_type": "markdown",
      "metadata": {
        "id": "t48ZzDLtux0T"
      },
      "source": [
        "# Problema 1"
      ]
    },
    {
      "cell_type": "markdown",
      "metadata": {
        "id": "cWCfLm-fvNTx"
      },
      "source": [
        "Escribe un código que pida al usuario ingresar un número real y determine si el número ingresado es positivo, negativo o cero."
      ]
    },
    {
      "cell_type": "code",
      "execution_count": null,
      "metadata": {},
      "outputs": [],
      "source": [
        "num=float(input(\"Ingrese un número\"))\n",
        "if num>0:\n",
        "    print(\"Su número es positivo\")\n",
        "elif num<0:\n",
        "    print(\"Su número es negativo\")\n",
        "else:\n",
        "    print(\"Su número es cero\")"
      ]
    },
    {
      "cell_type": "markdown",
      "metadata": {
        "id": "6civkm_Pwf1B"
      },
      "source": [
        "# Problema 2"
      ]
    },
    {
      "cell_type": "markdown",
      "metadata": {
        "id": "rjeAxtJ4x9h6"
      },
      "source": [
        "Escribe un código que pida al usuario ingresar un número entero y que determine si el número ingresado es par o impar.\n"
      ]
    },
    {
      "cell_type": "code",
      "execution_count": null,
      "metadata": {},
      "outputs": [],
      "source": [
        "num=int(input(\"Ingrese un número: \"))\n",
        "if num %2==0:\n",
        "    print(\"Su número es par\")\n",
        "else: \n",
        "    print(\"Su número es impar\")"
      ]
    },
    {
      "cell_type": "markdown",
      "metadata": {
        "id": "rLA34mTgxuSf"
      },
      "source": [
        "# Problema 3"
      ]
    },
    {
      "cell_type": "markdown",
      "metadata": {
        "id": "6E3zFuZSwigv"
      },
      "source": [
        "Escribe un código que, mediante un ciclo *while*, sume los primeros $100$ números naturales."
      ]
    },
    {
      "cell_type": "code",
      "execution_count": 35,
      "metadata": {},
      "outputs": [
        {
          "name": "stdout",
          "output_type": "stream",
          "text": [
            "1\n",
            "2\n",
            "3\n",
            "4\n",
            "5\n",
            "6\n",
            "7\n",
            "8\n",
            "9\n",
            "10\n",
            "11\n",
            "12\n",
            "13\n",
            "14\n",
            "15\n",
            "16\n",
            "17\n",
            "18\n",
            "19\n",
            "20\n",
            "21\n",
            "22\n",
            "23\n",
            "24\n",
            "25\n",
            "26\n",
            "27\n",
            "28\n",
            "29\n",
            "30\n",
            "31\n",
            "32\n",
            "33\n",
            "34\n",
            "35\n",
            "36\n",
            "37\n",
            "38\n",
            "39\n",
            "40\n",
            "41\n",
            "42\n",
            "43\n",
            "44\n",
            "45\n",
            "46\n",
            "47\n",
            "48\n",
            "49\n",
            "50\n",
            "51\n",
            "52\n",
            "53\n",
            "54\n",
            "55\n",
            "56\n",
            "57\n",
            "58\n",
            "59\n",
            "60\n",
            "61\n",
            "62\n",
            "63\n",
            "64\n",
            "65\n",
            "66\n",
            "67\n",
            "68\n",
            "69\n",
            "70\n",
            "71\n",
            "72\n",
            "73\n",
            "74\n",
            "75\n",
            "76\n",
            "77\n",
            "78\n",
            "79\n",
            "80\n",
            "81\n",
            "82\n",
            "83\n",
            "84\n",
            "85\n",
            "86\n",
            "87\n",
            "88\n",
            "89\n",
            "90\n",
            "91\n",
            "92\n",
            "93\n",
            "94\n",
            "95\n",
            "96\n",
            "97\n",
            "98\n",
            "99\n",
            "100\n",
            "5050\n"
          ]
        }
      ],
      "source": [
        "num=0\n",
        "cont=0\n",
        "while num<100:\n",
        "    num+=1\n",
        "    print(num)\n",
        "    cont=cont+num\n",
        "print(cont)"
      ]
    },
    {
      "cell_type": "markdown",
      "metadata": {
        "id": "pZpuARSKz4zw"
      },
      "source": [
        "# Problema 4"
      ]
    },
    {
      "cell_type": "markdown",
      "metadata": {
        "id": "SxGOLjlnz6y_"
      },
      "source": [
        "Escribe un código que almacene en una variable el *string* \"Contraseña\". Luego, el programa debe solicitar al usuario \"Introducir contraseña\", hasta que la palabra ingresada sea correcta. <sup><a href=\"#footnote1\" id=\"ref1\">1</a></sup>\n",
        "\n",
        "\n",
        "<p id=\"footnote1\"><sup>1</sup> String: Tipo de dato que almacena texto."
      ]
    },
    {
      "cell_type": "code",
      "execution_count": null,
      "metadata": {},
      "outputs": [],
      "source": [
        "key=\"Contraseña\"\n",
        "while True:\n",
        "    intento=input(\"Ingrese su contraseña: \")\n",
        "    if key==intento:\n",
        "        print(\"Bienvenido al programa\")\n",
        "        break\n",
        "    else:\n",
        "        print(\"ERROR, intente de nuevo\")"
      ]
    },
    {
      "cell_type": "markdown",
      "metadata": {
        "id": "bXAO6t1V1psK"
      },
      "source": [
        "# Problema 5"
      ]
    },
    {
      "cell_type": "markdown",
      "metadata": {
        "id": "nXwlwVHI11wC"
      },
      "source": [
        "Escribe un código que, utilizando un ciclo *for*, pida al usuario ingresar un número entero y muestre la tabla de multiplicar desde el 1 al 12 de dicho número."
      ]
    },
    {
      "cell_type": "code",
      "execution_count": null,
      "metadata": {},
      "outputs": [],
      "source": [
        "num=int(input(\"Ingrese un número para mostrar sus tablas: \"))\n",
        "for i in range(12):\n",
        "    print(num,\"x\",i+1,\"= \",(i+1)*num)"
      ]
    },
    {
      "cell_type": "markdown",
      "metadata": {
        "id": "UroIuMyFCKax"
      },
      "source": [
        "# Problema 6"
      ]
    },
    {
      "cell_type": "markdown",
      "metadata": {
        "id": "VoiJyh0zCMzX"
      },
      "source": [
        "1. Escribe una función que reciba dos números y retorne el producto de los números recibidos.\n",
        "1. Escribe una nueva función que tome el producto calculado en el ítem anterior y redondee el valor al entero.\n",
        "1. Pide al usuario que ingrese dos números, y utiliza ambas funciones para imprimir el valor de la multiplicación redondeado al entero."
      ]
    },
    {
      "cell_type": "code",
      "execution_count": 17,
      "metadata": {},
      "outputs": [
        {
          "name": "stdout",
          "output_type": "stream",
          "text": [
            "El valor es 20.0 y redondeado es 20\n"
          ]
        }
      ],
      "source": [
        "def func1(n,m):\n",
        "    return (n*m)\n",
        "\n",
        "def func2(pro):\n",
        "    return round(pro)\n",
        "\n",
        "def func3():\n",
        "    n1=float(input(\"Ingrese primer número: \"))\n",
        "    n2=float(input(\"Ingrese segundo número: \"))\n",
        "    pro=func1(n1,n2)\n",
        "    red=func2(pro)\n",
        "    print(f\"El valor es {pro} y redondeado es {red}\")\n",
        "\n",
        "func3()"
      ]
    },
    {
      "cell_type": "markdown",
      "metadata": {
        "id": "GHMOEBgQDvUw"
      },
      "source": [
        "# Problema 7"
      ]
    },
    {
      "cell_type": "markdown",
      "metadata": {
        "id": "I77oq5plD50H"
      },
      "source": [
        "La fórmula que permite convertir los grados Celsius a Fahrenheit es la siguiente:\n",
        "\n",
        "$$ F = \\frac{9}{5} C + 32$$\n",
        "\n",
        "1. Crea una función que permita realizar esta conversión.\n",
        "1. Luego, pide al usuario que ingrese la temperatura en grados Celsius y utiliza la función para calcular su equivalente en grados Fahrenheit.\n",
        "1. Imprime el resultado redondeado a la centésima."
      ]
    },
    {
      "cell_type": "code",
      "execution_count": null,
      "metadata": {},
      "outputs": [
        {
          "name": "stdout",
          "output_type": "stream",
          "text": [
            "La temperatura convertida es 101.21 F°\n"
          ]
        }
      ],
      "source": [
        "# cel=int(input(\"Ingrese en C°: \"))\n",
        "# far=((9/5)*cel)+32\n",
        "# print(far)\n",
        "def cambio(celcious):\n",
        "    far=((9/5)*celcious)+32\n",
        "    return far\n",
        "\n",
        "def calculo():\n",
        "    grados=float(input(\"Ingrese la temperatura: \"))\n",
        "    far=cambio(grados)\n",
        "    print(f\"La temperatura convertida es {round(far,2)} F°\")\n",
        "calculo()"
      ]
    },
    {
      "cell_type": "markdown",
      "metadata": {
        "id": "yC4Sju1KGQFn"
      },
      "source": [
        "# Problema 8"
      ]
    },
    {
      "cell_type": "markdown",
      "metadata": {
        "id": "Qw6j4zbSG0NH"
      },
      "source": [
        "1. Escribe un código que importe el módulo *random* y utiliza la función *randint()* para generar diez números aleatorios entre $1$ y $100$, y almacénalos en una lista.\n",
        "1. Imprime en pantalla la lista con los diez números generados.\n",
        "1. Utiliza la indexación en *Python* para acceder al segundo y sexto elemento de la lista. Ten en cuenta que en *Python* los índices comienzan en $0$. ¿Cómo imprimirías estos elementos?"
      ]
    },
    {
      "cell_type": "code",
      "execution_count": null,
      "metadata": {},
      "outputs": [
        {
          "name": "stdout",
          "output_type": "stream",
          "text": [
            "1 -. 53\n",
            "2 -. 43\n",
            "3 -. 96\n",
            "4 -. 62\n",
            "5 -. 55\n",
            "6 -. 56\n",
            "7 -. 92\n",
            "8 -. 25\n",
            "9 -. 86\n",
            "10 -. 39\n",
            "11 -. 32\n",
            "12 -. 93\n",
            "13 -. 84\n",
            "14 -. 62\n",
            "15 -. 30\n",
            "El segundo número es 43 y el sexto es 56\n"
          ]
        }
      ],
      "source": [
        "import random\n",
        "lista=[]\n",
        "for i in range(10):\n",
        "    num=random.randint(1,100) \n",
        "    print(i+1,\"-.\",num)\n",
        "    lista.append(num)\n",
        "print(f\"El segundo número es {lista[1]} y el sexto es {lista[5]}\")"
      ]
    },
    {
      "cell_type": "markdown",
      "metadata": {
        "id": "qlwdqEfzHrL_"
      },
      "source": [
        "# Problema 9"
      ]
    },
    {
      "cell_type": "markdown",
      "metadata": {
        "id": "iqH0iITmJH-P"
      },
      "source": [
        "El Índice de Masa Corporal (IMC) es una medida que se utiliza para evaluar si una persona se encuentra en un peso saludable con respecto a su estatura. La fórmula para calcular esta medida es:\n",
        "\n",
        "<br>\n",
        "\n",
        "$$ \\textrm{IMC} = \\frac{\\textrm{peso} \\ \\ (\\textrm{kg})}{(\\textrm{altura} \\ \\ (\\textrm{m}))^{2}}$$\n",
        "\n",
        "<br>\n",
        "\n",
        "El valor obtenido con el IMC, de acuerdo con la Organización Mundial de la Salud (OMS) indica si la persona tiene un peso bajo, normal, sobrepeso u obesidad. La clasificación es la siguiente:\n",
        "\n",
        "<br>\n",
        "\n",
        "* Bajo peso: IMC menor a $18,5 \\ \\  \\textrm{kg/m}^{2}$\n",
        "* Peso normal: IMC entre $18,5 \\ \\ \\textrm{kg/m}^{2}$ y $24,9 \\ \\ \\textrm{kg/m}^{2}$\n",
        "* Sobrepeso: IMC entre $25 \\ \\ \\textrm{kg/m}^{2}$ y $29,9 \\ \\ \\textrm{kg/m}^{2}$\n",
        "* Obesidad: IMC de $30 \\ \\ \\textrm{kg/m}^{2}$ o mayor\n",
        "\n",
        "<br>\n",
        "\n",
        "Aunque el IMC es una forma eficaz de evaluar el peso, no tiene en cuenta factores como la distribución de grasa, la masa muscular y otros rasgos de la salud física.\n",
        "\n",
        "<br>\n",
        "\n",
        "1. Considerando la información entregada, implementa un código que permita calcular mediante una función, el valor del IMC de una persona. Luego, solicita al usuario valores de masa y altura e indica, mediante el uso de condicionales, la categoría de la persona según el IMC calculado.\n",
        "1. Considera la siguiente tabla de valores, que muestra el peso y el IMC de once estudiantes. Guarda los valores del IMC en una lista e imprime en pantalla los estudiantes que, según el criterio de la OMS, están en **bajo peso**. Además, para cada IMC que esté en bajo peso, índica también el índice en la lista donde se encuentra.\n",
        "\n",
        "<p><center>\n",
        "\n",
        "| N°      | Peso $(\\textrm{kg})$ | IMC $(\\textrm{kg/m}^{2})$|\n",
        "|---------|----------------------|--------------------------|\n",
        "|$$ 1 $$  | $$29,5 $$            | $$16,43$$                |\n",
        "|$$ 2 $$  | $$37,3 $$            | $$19,31$$                |\n",
        "|$$ 3 $$  | $$38   $$            | $$10,25$$                |\n",
        "|$$ 4 $$  | $$31   $$            | $$18,63$$                |\n",
        "|$$ 5 $$  | $$36   $$            | $$17,85$$                |\n",
        "|$$ 6 $$  | $$40,4 $$            | $$19,76$$                |\n",
        "|$$ 7 $$  | $$47   $$            | $$23,64$$                |\n",
        "|$$ 8 $$  | $$43   $$            | $$21,94$$                |\n",
        "|$$ 9 $$  | $$36   $$            | $$21,3 $$                |\n",
        "|$$ 10$$  | $$40,1 $$            | $$22,67$$                |\n",
        "|$$ 11$$  | $$27   $$            | $$16,48$$                |\n",
        "\n",
        "</center></p>\n",
        "\n"
      ]
    },
    {
      "cell_type": "code",
      "execution_count": null,
      "metadata": {},
      "outputs": [],
      "source": [
        "# 1.\n",
        "peso=int(input(\"Ingrese su peso: \"))\n",
        "alt=float(input(\"Ingrese su altura (ej. 1.75): \"))\n",
        "imc=(peso/alt**2)\n",
        "print(round(imc,2))\n",
        "if imc<18.5:\n",
        "    print(\"Usted tiene bajo peso\")\n",
        "elif imc>=18.5 and imc<=24.9:\n",
        "    print(\"Usted tiene peso normal\")\n",
        "elif imc>=25 and imc<=29.9:\n",
        "    print(\"Usted tiene sobrepeso\")\n",
        "else:\n",
        "    print(\"Usted tiene obesidad\")"
      ]
    },
    {
      "cell_type": "code",
      "execution_count": null,
      "metadata": {},
      "outputs": [
        {
          "name": "stdout",
          "output_type": "stream",
          "text": [
            "16.43\n",
            "Usted tiene bajo peso\n",
            "19.31\n",
            "Usted tiene peso normal\n",
            "10.25\n",
            "Usted tiene bajo peso\n",
            "18.63\n",
            "Usted tiene peso normal\n",
            "17.85\n",
            "Usted tiene bajo peso\n",
            "19.76\n",
            "Usted tiene peso normal\n",
            "23.64\n",
            "Usted tiene peso normal\n",
            "21.94\n",
            "Usted tiene peso normal\n",
            "21.3\n",
            "Usted tiene peso normal\n",
            "22.67\n",
            "Usted tiene peso normal\n",
            "16.48\n",
            "Usted tiene bajo peso\n"
          ]
        }
      ],
      "source": [
        "#2.\n",
        "estudiantes={\n",
        "    'Est1':[29.5,16.43],\n",
        "    'Est2':[37.3,19.31],\n",
        "    'Est3':[38,10.25],\n",
        "    'Est4':[31,18.63],\n",
        "    'Est5':[36,17.85],\n",
        "    'Est6':[40.4,19.76],\n",
        "    'Est7':[47,23.64],\n",
        "    'Est8':[43,21.94],\n",
        "    'Est9':[36,21.3],\n",
        "    'Est10':[40.1,22.67],\n",
        "    'Est11':[27,16.48]\n",
        "}\n",
        "for indice, detalle in estudiantes.items():\n",
        "    imc=detalle[1]   \n",
        "    print(imc)\n",
        "    if imc<18.5:\n",
        "        print(\"Usted tiene bajo peso\")\n",
        "    elif imc>=18.5 and imc<=24.9:\n",
        "        print(\"Usted tiene peso normal\")\n",
        "    elif imc>=25 and imc<=29.9:\n",
        "        print(\"Usted tiene sobrepeso\")\n",
        "    else:\n",
        "        print(\"Usted tiene obesidad\")\n",
        "    estudiantes(sorted)"
      ]
    }
  ],
  "metadata": {
    "colab": {
      "provenance": [],
      "toc_visible": true
    },
    "kernelspec": {
      "display_name": "base",
      "language": "python",
      "name": "python3"
    },
    "language_info": {
      "codemirror_mode": {
        "name": "ipython",
        "version": 3
      },
      "file_extension": ".py",
      "mimetype": "text/x-python",
      "name": "python",
      "nbconvert_exporter": "python",
      "pygments_lexer": "ipython3",
      "version": "3.8.5"
    }
  },
  "nbformat": 4,
  "nbformat_minor": 0
}
