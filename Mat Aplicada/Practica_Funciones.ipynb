{
 "cells": [
  {
   "cell_type": "markdown",
   "metadata": {},
   "source": [
    "## Práctica Funciones en Python"
   ]
  },
  {
   "cell_type": "markdown",
   "metadata": {},
   "source": [
    "Se le entregan las siguientes 3 funciones, cuyo dominio son todos los números reales entre -1 y 10:\n",
    "\n",
    "**Función 1**: $$f(x) = x^{2}-2x+7$$\n",
    "\n",
    "**Función 2**: $$g(x) = 3x+9$$\n",
    "\n",
    "**Función 3**: $$h(x) = 2e^{0.4x}$$"
   ]
  },
  {
   "cell_type": "markdown",
   "metadata": {},
   "source": [
    "## Actividades\n"
   ]
  },
  {
   "cell_type": "markdown",
   "metadata": {},
   "source": [
    "1. Defina las 3 funciones en Python. Calcule la imagen de $$x=6$$ en cada una de ellas."
   ]
  },
  {
   "cell_type": "code",
   "execution_count": null,
   "metadata": {},
   "outputs": [],
   "source": [
    "import numpy as np\n",
    "x=6\n",
    "def F(x):\n",
    "    return x**2-2*x+7\n",
    "print(F(x))\n",
    "def G(x):\n",
    "    return 3*x+9\n",
    "print(G(x))\n",
    "def H(x):\n",
    "    e=np.exp(0.4*x)\n",
    "    return 2*e\n",
    "print(H(x))\n",
    "\n"
   ]
  },
  {
   "cell_type": "markdown",
   "metadata": {},
   "source": [
    "2. Calcule la preimagen de $$y=20$$ en cada una de ellas."
   ]
  },
  {
   "cell_type": "code",
   "execution_count": 12,
   "metadata": {},
   "outputs": [
    {
     "name": "stdout",
     "output_type": "stream",
     "text": [
      "[-2.74165739]\n",
      "-3\n"
     ]
    }
   ],
   "source": [
    "from scipy.optimize import fsolve\n",
    "def P(x):\n",
    "    return F(x)-20\n",
    "\n",
    "#Valor/es inicial/es de la aproximación\n",
    "xo=np.linspace(-5,30,1)\n",
    "solucion=fsolve(P,xo)\n",
    "#Recordar que \"solución\" es un arreglo que puede tener uno o más valores\n",
    "print(solucion)\n",
    "print(round(solucion[0]))"
   ]
  },
  {
   "cell_type": "markdown",
   "metadata": {},
   "source": [
    "3. Grafique las 3 funciones en un mismo gráfico, visualizando de acuerdo al dominio mencionado, y mostrando una etiqueta que permita identificar a cada función."
   ]
  },
  {
   "cell_type": "code",
   "execution_count": null,
   "metadata": {},
   "outputs": [],
   "source": [
    "import matplotlib as plt\n",
    "#Datos:\n",
    "x=np.arange(0, 1563, 1)\n",
    "#Función:\n",
    "F=\n",
    "G=\n",
    "H=\n",
    "#Gráfico:\n",
    "plt.plot(x, y)\n",
    "#Ejes (inicioX, finalX, inicioY, finalY):\n",
    "plt.axis([0,0,0,0])\n",
    "#Titulos:\n",
    "plt.title('Tiempo de ordenamiento según cantidad de elementos')\n",
    "plt.xlabel('n: Cantidad de elementos')\n",
    "plt.ylabel('A(n): Tiempo ejecución (seg)')\n",
    "#Label\n",
    "plt.legend(\"A(n)\")\n",
    "#Grilla:\n",
    "plt.grid(True)\n",
    "#Mostrar:\n",
    "plt.show()"
   ]
  },
  {
   "cell_type": "markdown",
   "metadata": {},
   "source": [
    "4. Determine en qué punto se intersectan las funciones g y h."
   ]
  },
  {
   "cell_type": "code",
   "execution_count": null,
   "metadata": {},
   "outputs": [],
   "source": []
  },
  {
   "cell_type": "markdown",
   "metadata": {},
   "source": [
    "5. Determine en qué puntos se intersectan las funciones f y g."
   ]
  },
  {
   "cell_type": "code",
   "execution_count": null,
   "metadata": {},
   "outputs": [],
   "source": []
  }
 ],
 "metadata": {
  "kernelspec": {
   "display_name": "Python 3",
   "language": "python",
   "name": "python3"
  },
  "language_info": {
   "codemirror_mode": {
    "name": "ipython",
    "version": 3
   },
   "file_extension": ".py",
   "mimetype": "text/x-python",
   "name": "python",
   "nbconvert_exporter": "python",
   "pygments_lexer": "ipython3",
   "version": "3.13.5"
  }
 },
 "nbformat": 4,
 "nbformat_minor": 2
}
